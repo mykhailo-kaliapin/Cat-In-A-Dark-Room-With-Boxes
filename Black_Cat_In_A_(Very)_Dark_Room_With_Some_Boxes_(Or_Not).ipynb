{
  "nbformat": 4,
  "nbformat_minor": 0,
  "metadata": {
    "colab": {
      "provenance": [],
      "gpuType": "T4",
      "toc_visible": true,
      "authorship_tag": "ABX9TyO4G4AXa9nLCs5NEqCmIF5y",
      "include_colab_link": true
    },
    "kernelspec": {
      "name": "python3",
      "display_name": "Python 3"
    },
    "language_info": {
      "name": "python"
    },
    "accelerator": "GPU"
  },
  "cells": [
    {
      "cell_type": "markdown",
      "metadata": {
        "id": "view-in-github",
        "colab_type": "text"
      },
      "source": [
        "<a href=\"https://colab.research.google.com/github/mykhailo-kaliapin/Cat-In-A-Dark-Room-With-Boxes/blob/main/Black_Cat_In_A_(Very)_Dark_Room_With_Some_Boxes_(Or_Not).ipynb\" target=\"_parent\"><img src=\"https://colab.research.google.com/assets/colab-badge.svg\" alt=\"Open In Colab\"/></a>"
      ]
    },
    {
      "cell_type": "markdown",
      "source": [
        "# PART 1. Problem"
      ],
      "metadata": {
        "id": "JWfaDGIUOKv6"
      }
    },
    {
      "cell_type": "markdown",
      "source": [
        "В темній кімнаті розміром n x n клітинок знаходяться механічний кіт і певна кількість випадково розташованих нерухомих коробок.\n",
        "Напишіть програму, що дозволить коту знайти і залізти в кожну з коробок, бажано за меншу кількість ходів.\n",
        "Умови наступні:\n",
        "1. Кіт і коробка займають одну клітинку в кімнаті\n",
        "2. Кіт бачить не більш ніж на 3 клітинки навколо себе.\n",
        "3. Кіт може переміщуватись по кімнаті на 1 клітинку за хід у любому напрямку включно с діагональним\n",
        "4. Кіт починає пошук з довільної клітинки в кімнаті.\n",
        "\n",
        "Ми очікуємо на програму для симуляції подорожі кота, а також оцінки розрахункової складності алгоритму для кращого або гіршого сценаріях пошуку.\n",
        "Чи буде залежати цей результат від розташування початкової клітинки?"
      ],
      "metadata": {
        "id": "SSueuJkSnSoT"
      }
    },
    {
      "cell_type": "markdown",
      "source": [
        "## *Note\n",
        "\n",
        "From the problem statement, the condition #2 brought an ambiguous conclusion. Two possible scenarios of the cat's visibility range were derived.\n",
        "\n",
        "The cat sees either:\n",
        "1) by 3 cells deep 360-degree around itself; or\n",
        "2) only 3 neighboring cells.\n",
        "\n",
        ">The scenario 1 was chosen as it: a) sparked more interest in the developer; b) seemed to be more difficult."
      ],
      "metadata": {
        "id": "uQ-Q2O4R06Xw"
      }
    },
    {
      "cell_type": "markdown",
      "source": [
        "# PART 2. Solution"
      ],
      "metadata": {
        "id": "bsYVc82uOR2K"
      }
    },
    {
      "cell_type": "markdown",
      "source": [
        "## Logic\n",
        "\n",
        "Step 1. Initialize the room of n x n cells with a specified number of randomly generated boxes coordinates and starting cell for the cat.\n",
        "\n",
        "Step 2. WHILE there are still unvisited cells in the room:\n",
        "\n",
        ">Step 2.1. Check all cells within the cat's visibility range for boxes (in our case, a 7 x 7 grid with the starting cell in the center) ignoring already visited and marking the ones that are seen for the first time as visited.\n",
        "\n",
        ">Step 2.2. IF a box is encountered, assign it as a target for the the chosen pathfinding algorithm* to find the shortest possible path to it. If multiple boxes are encountered, visit them one by one. Build the path and add it to the path list of coordinates. The target is reassigned as a new starting point. And the next cell in line in the traversal algorithm** becomes the target. Repeat the pathfinding algorithm. The target is reassigned as a new starting point. Go back to step 2.1.\n",
        "\n",
        ">Step 2.3. IF the visible grid does not contain any boxes, move the cat 1 cell according to the chosen traversal algorithm and reassign it as a new starting point. Go back to step 2.1.\n",
        "\n",
        "Step 3. Output the cat's journey.\n"
      ],
      "metadata": {
        "id": "m2i0lcv8sllf"
      }
    },
    {
      "cell_type": "markdown",
      "source": [
        "### *Pathfinding Algorithms\n",
        "\n",
        "The choice of a pathfinding algorithm depends on factors such as the size of the search space, the presence of obstacles or weights, the accuracy requirements of the solution, and the available computational resources. It's important to consider these factors and select the algorithm that best suits the specific problem at hand.\n",
        "\n",
        "Here are Top-3 pathfinding algorithms for our problem:\n",
        "\n",
        "1. Dijkstra's Algorithm: Dijkstra's algorithm guarantees finding the shortest path in terms of the total cost or distance traveled. It explores all possible paths from the start node to the goal node and selects the one with the minimum cost. Dijkstra's algorithm is suitable for situations where finding the absolute shortest path is necessary.\n",
        "2. A* Algorithm: A* (A-star) algorithm is an extension of Dijkstra's algorithm that incorporates heuristics to guide the search and improve efficiency. It uses a combination of the actual cost of the path from the start node and an estimated cost to the goal node (heuristic) to prioritize the exploration. A* algorithm is often faster than Dijkstra's algorithm, especially in large search spaces, and is commonly used in various applications.\n",
        "3. Breadth-First Search (BFS): BFS is an algorithm that explores all neighboring nodes at the current level before moving to the next level. It guarantees finding the shortest path in terms of the number of edges traversed. BFS is suitable for unweighted graphs or grids and is often used when the search space is not too large.\n",
        "\n",
        ">Let's choose the **dijkstra's algorithm**, as it should yield the shortest possible path between two cells."
      ],
      "metadata": {
        "id": "EKoB5OKkw3Og"
      }
    },
    {
      "cell_type": "markdown",
      "source": [
        "### **Traversal Algorithms\n",
        "\n",
        "To find the shortest way, we have to traverse the whole array in least amount of steps. To do it, we have to move cell by cell choosing the directions that would at the same time:\n",
        "*   open up the highest number of unvisited cells; and\n",
        "*   not create 'closed pockets of unvisited cells'.\n",
        "\n",
        "The picture below shows:\n",
        "\n",
        ">a) spiral traversing algorithm;\n",
        "\n",
        ">b) column-/row-based snake traversing algorithm;\n",
        "\n",
        ">c) wierd experimentation :)\n",
        "\n",
        ">d) zigzag snake traversing algorithm.\n",
        "\n",
        "And the numbers above each graph is a number of steps that has to be made in order to visit all the cells.\n",
        "\n",
        "Option d) is a product of experimentation that yielded a 11.11% better result compared to the classic methods a) and b) on a 12 x 12 sample 2d array.\n",
        "\n",
        "![Traversal Algorithms](https://drive.google.com/uc?export=view&id=1A5XUmbKYck-OTBdBvOKP_ZoEPFKyMdnn)\n",
        "\n",
        ">For simplicity, let's choose the **column-/row-based snake algorithm** to tackle our problem."
      ],
      "metadata": {
        "id": "S-RcrClSoBh3"
      }
    },
    {
      "cell_type": "markdown",
      "source": [
        "## Code"
      ],
      "metadata": {
        "id": "TvdaE3JVEMeM"
      }
    },
    {
      "cell_type": "code",
      "source": [
        "# import libraries\n",
        "import numpy as np\n",
        "import matplotlib.pyplot as plt"
      ],
      "metadata": {
        "id": "I9p6pY--CFfV"
      },
      "execution_count": null,
      "outputs": []
    },
    {
      "cell_type": "code",
      "source": [
        "def initialize_room(n_cells, num_boxes):\n",
        "    '''\n",
        "    A function to initialize a square room of n x n cells with a specified\n",
        "    number of randomly generated boxes and starting position for the kitty to play.\n",
        "\n",
        "    Args:\n",
        "        n_cells (int): a number that represents the number of rows and columns in the room array\n",
        "        num_boxes (int): a specified number of boxes that should be initialized in the room array\n",
        "\n",
        "    Returns:\n",
        "        room (2d ndarray): a 2d numpy array representing the room\n",
        "        showroom (list[list]): a list of lists showcasing the room with boxes and the cat\n",
        "        boxes_coords (list[list]): a list of lists with cell coordinates of the initialized boxes\n",
        "        cat_coords (list): a list with cell coordinates of the initialized cat\n",
        "    '''\n",
        "    room = np.zeros((n_cells, n_cells))\n",
        "    showroom = [[0] * n_cells for _ in range(n_cells)]\n",
        "\n",
        "    # Generate random room cell coordinates for boxes\n",
        "    # dim is dimensionality of coordinates (in our case 2)\n",
        "    dim = 2\n",
        "    boxes_coords = [list(x) for x in np.random.randint(n_cells, size=(num_boxes, dim))]\n",
        "    boxes_coords.sort()\n",
        "\n",
        "    # Place the boxes in the showroom marking each with an 'X'\n",
        "    for b in boxes_coords:\n",
        "      showroom[b[0]][b[1]] = 'X'\n",
        "\n",
        "    # Generate a random starting room cell to place the cat in avoiding the cells with boxes\n",
        "    while True:\n",
        "      cat_coords = [np.random.randint(0, n_cells), np.random.randint(0, n_cells)]\n",
        "      if cat_coords not in boxes_coords:\n",
        "        break\n",
        "\n",
        "    # Place the cat in the showroom marking it with a 'C'\n",
        "    showroom[cat_coords[0]][cat_coords[1]] = 'C'\n",
        "\n",
        "    return room, showroom, boxes_coords, cat_coords\n",
        "\n",
        "\n",
        "\n",
        "\n",
        "def valid_room_cell(cell, size_of_grid):\n",
        "    \"\"\"\n",
        "    A function that checks if a cell is within the room boundaries\n",
        "    \"\"\"\n",
        "    if cell[0] < 0 or cell[0] >= size_of_grid:\n",
        "        return False\n",
        "    if cell[1] < 0 or cell[1] >= size_of_grid:\n",
        "        return False\n",
        "    return True\n",
        "\n",
        "\n",
        "\n",
        "\n",
        "def valid_grid_cell(cell):\n",
        "    \"\"\"\n",
        "    A function that checks if a grid cell is within the room boundaries\n",
        "    \"\"\"\n",
        "    if cell[0] < 0 or cell[0] >= len(room):\n",
        "        return False\n",
        "    if cell[1] < 0 or cell[1] >= len(room[0]):\n",
        "        return False\n",
        "    return True\n",
        "\n",
        "\n",
        "\n",
        "\n",
        "def up(cell):\n",
        "    ''' A function to move one cell up '''\n",
        "    return (cell[0]-1, cell[1])\n",
        "\n",
        "def up_d_right(cell):\n",
        "    ''' A function to move one cell up diagonally right '''\n",
        "    return (cell[0]-1, cell[1]+1)\n",
        "\n",
        "def up_d_left(cell):\n",
        "    ''' A function to move one cell up diagonally left'''\n",
        "    return (cell[0]-1, cell[1]-1)\n",
        "\n",
        "def down(cell):\n",
        "    ''' A function to move one cell down '''\n",
        "    return (cell[0]+1, cell[1])\n",
        "\n",
        "def down_d_right(cell):\n",
        "    ''' A function to move one cell down diagonally right'''\n",
        "    return (cell[0]+1, cell[1]+1)\n",
        "\n",
        "def down_d_left(cell):\n",
        "    ''' A function to move one cell down diagonally left '''\n",
        "    return (cell[0]+1, cell[1]-1)\n",
        "\n",
        "def left(cell):\n",
        "    ''' A function to move one cell left '''\n",
        "    return (cell[0], cell[1]-1)\n",
        "\n",
        "def right(cell):\n",
        "    ''' A function to move one cell right '''\n",
        "    return (cell[0], cell[1]+1)\n",
        "\n",
        "\n",
        "\n",
        "\n",
        "def up_left_corner(start_cell, limit):\n",
        "    '''\n",
        "    A function to define coordinates for the cat to move from the start cell to\n",
        "    the upper left corner of the room.\n",
        "\n",
        "    Args:\n",
        "        start_cell (list): starting coordinates of the cat in the room\n",
        "        limit (int): a specified number of cells that the cat can see around it\n",
        "\n",
        "    Returns:\n",
        "        list[list]: a list with coordinates of the cat's path from the start cell\n",
        "        to the upper left corner of the room\n",
        "    '''\n",
        "    path_to_corner = []\n",
        "\n",
        "    while True:\n",
        "\n",
        "      path_to_corner.append(list(start_cell))\n",
        "\n",
        "      if start_cell[0] > limit and start_cell[1] > limit:\n",
        "        start_cell = up_d_left(start_cell)\n",
        "\n",
        "      elif start_cell[0] > limit and start_cell[1] < limit:\n",
        "        start_cell = up_d_right(start_cell)\n",
        "\n",
        "      elif start_cell[0] > limit and start_cell[1] == limit:\n",
        "        start_cell = up(start_cell)\n",
        "\n",
        "      elif start_cell[0] == limit and start_cell[1] > limit:\n",
        "        start_cell = left(start_cell)\n",
        "\n",
        "      elif start_cell[0] < limit and start_cell[1] > limit:\n",
        "        start_cell = down_d_left(start_cell)\n",
        "\n",
        "      elif start_cell[0] < limit and start_cell[1] < limit:\n",
        "        start_cell = down_d_right(start_cell)\n",
        "\n",
        "      elif start_cell[0] < limit and start_cell[1] == limit:\n",
        "        start_cell = down(start_cell)\n",
        "\n",
        "      elif start_cell[0] == limit and start_cell[1] < limit:\n",
        "        start_cell = right(start_cell)\n",
        "\n",
        "      else:\n",
        "        break\n",
        "\n",
        "    return path_to_corner\n",
        "\n",
        "\n",
        "\n",
        "\n",
        "def row_snake(room, limit):\n",
        "    '''\n",
        "    A function that creates a list with coordinates of elements in order to\n",
        "    traverse the whole room in row-based order from upper left corner.\n",
        "\n",
        "    Args:\n",
        "        room (2d ndarray): a 2d numpy array representing the room\n",
        "        limit (int): a specified number of cells that the cat can see around it\n",
        "\n",
        "    Returns:\n",
        "        list[list]: a list of lists representing coordinates of elements in order\n",
        "        to traverse the whole room in row-based order from upper left corner\n",
        "        considering the size of the limit\n",
        "    '''\n",
        "    output = []\n",
        "    n = len(room)\n",
        "\n",
        "    # Define the grid's boundaries\n",
        "    top_row = limit\n",
        "    mid_row = top_row\n",
        "    bottom_row = (n - 1) - limit\n",
        "    left_col = limit\n",
        "    right_col = (n - 1) - limit\n",
        "\n",
        "    while mid_row <= bottom_row:\n",
        "\n",
        "      top_row = mid_row\n",
        "      for i in range(left_col + 1, right_col + 1):\n",
        "        output.append([top_row, i])\n",
        "\n",
        "      if top_row == bottom_row: break\n",
        "\n",
        "      if (n-1) - (top_row + (limit*2 +1)) >= limit:\n",
        "        mid_row += limit*2 + 1\n",
        "      else:\n",
        "        mid_row = n - limit\n",
        "\n",
        "      for i in range(top_row, mid_row):\n",
        "        output.append([i, right_col])\n",
        "\n",
        "      for i in range(right_col, left_col, -1):\n",
        "        output.append([mid_row, i])\n",
        "\n",
        "      if mid_row == bottom_row: break\n",
        "\n",
        "      if (n-1) - (mid_row + (limit*2 + 1)) >= limit:\n",
        "        top_row = mid_row\n",
        "        mid_row += limit*2 + 1\n",
        "      else:\n",
        "        top_row = mid_row\n",
        "        mid_row = (n - 1) - limit\n",
        "\n",
        "      for i in range(top_row, mid_row + 1):\n",
        "        output.append([i, left_col])\n",
        "\n",
        "    return output\n",
        "\n",
        "\n",
        "\n",
        "\n",
        "def spiral_coords(start_cell, limit):\n",
        "    '''\n",
        "    A function that traverses elements in a grid in spiral order inwards clockwise.\n",
        "\n",
        "    Args:\n",
        "        start_cell (list): coordinates of the cuurent cell\n",
        "        limit (int): a specified number of cells that the cat can see around it\n",
        "\n",
        "    Returns:\n",
        "        list[list]: a list of lists representing coordinates of each element in\n",
        "        a grid in spiral order outwards counterclockwise\n",
        "    '''\n",
        "    output = []\n",
        "\n",
        "    # Define the grid's boundaries\n",
        "    top_row = start_cell[0] - limit\n",
        "    bottom_row = start_cell[0] + limit\n",
        "    left_col = start_cell[1] - limit\n",
        "    right_col = start_cell[1] + limit\n",
        "\n",
        "    while top_row <= bottom_row and left_col <= right_col:\n",
        "\n",
        "      for i in range(left_col, right_col + 1):\n",
        "        output.append([top_row, i])\n",
        "      top_row += 1\n",
        "\n",
        "      for i in range(top_row, bottom_row + 1):\n",
        "        output.append([i, right_col])\n",
        "      right_col -= 1\n",
        "\n",
        "      if top_row > bottom_row: break\n",
        "\n",
        "      for i in range(right_col, left_col - 1, -1):\n",
        "        output.append([bottom_row, i])\n",
        "      bottom_row -= 1\n",
        "\n",
        "      if left_col > right_col: break\n",
        "\n",
        "      for i in range(bottom_row, top_row - 1, -1):\n",
        "        output.append([i, left_col])\n",
        "      left_col += 1\n",
        "\n",
        "    return list(reversed(output[:-1]))\n",
        "\n",
        "\n",
        "\n",
        "\n",
        "def obstacles_coords(start_cell, limit):\n",
        "    '''\n",
        "    A function that creates a list with coordinates of each element around a grid\n",
        "    of 1 cell depth in circular order from upper left corner clockwise.\n",
        "\n",
        "    Args:\n",
        "        start_cell (list): coordinates of the cuurent cell\n",
        "        limit (int): a specified number of cells that the cat can see around it\n",
        "\n",
        "    Returns:\n",
        "        list[list]: a list of lists representing coordinates of each element around a grid\n",
        "    '''\n",
        "    output = []\n",
        "\n",
        "    # Define the grid's boundaries\n",
        "    top_row = start_cell[0] - (limit + 1)\n",
        "    bottom_row = start_cell[0] + (limit + 1)\n",
        "    left_col = start_cell[1] - (limit + 1)\n",
        "    right_col = start_cell[1] + (limit + 1)\n",
        "\n",
        "    for i in range(left_col, right_col):\n",
        "      output.append([top_row, i])\n",
        "\n",
        "    for i in range(top_row, bottom_row):\n",
        "      output.append([i, right_col])\n",
        "\n",
        "    for i in range(right_col, left_col, -1):\n",
        "      output.append([bottom_row, i])\n",
        "\n",
        "    for i in range(bottom_row, top_row, -1):\n",
        "      output.append([i, left_col])\n",
        "\n",
        "    return output\n",
        "\n",
        "\n",
        "\n",
        "\n",
        "def backtrack(start_cell, target, distances):\n",
        "    '''\n",
        "    A function to construct the path with the least number of steps from the\n",
        "    tagret to the start cell\n",
        "    '''\n",
        "    path = [target]\n",
        "    size_of_grid = distances.shape[0]\n",
        "\n",
        "    while True:\n",
        "\n",
        "      # check directions and choose the one that has the least distance\n",
        "      potential_distances, potential_cells = [], []\n",
        "\n",
        "      directions = [up, up_d_right, up_d_left, down, down_d_right, down_d_left, left, right]\n",
        "\n",
        "      for direction in directions:\n",
        "          cell = direction(path[-1])\n",
        "          if valid_room_cell(cell, size_of_grid):\n",
        "              potential_cells.append(list(cell))\n",
        "              potential_distances.append(distances[cell[0], cell[1]])\n",
        "\n",
        "      least_distance_index = np.argmin(potential_distances)\n",
        "      path.append(potential_cells[least_distance_index])\n",
        "\n",
        "      if path[-1][0] == start_cell[0] and path[-1][1] == start_cell[1]:\n",
        "          break\n",
        "\n",
        "    return list(reversed(path[:-1]))\n",
        "\n",
        "\n",
        "\n",
        "\n",
        "def dijkstra(start_cell, target, room):\n",
        "    \"\"\"\n",
        "    Dijkstra's algorithm for finding the shortest path between two cells in a graph.\n",
        "\n",
        "    Args:\n",
        "        start_cell (list): coordinates of the current start cell\n",
        "        target (list): coordinates of the target cell\n",
        "        room (2d ndarray): a 2d numpy array representing the room\n",
        "\n",
        "    Returns:\n",
        "        list[list]: list of lists of cells that form the shortest path from\n",
        "        the start cell to the target\n",
        "    \"\"\"\n",
        "\n",
        "    # initialize cost heuristic map\n",
        "    room = room.copy()\n",
        "\n",
        "    # normal tiles should have 1 cost (1 so we can backtrack)\n",
        "    room += np.ones((room.shape))\n",
        "\n",
        "    # source and destination are free\n",
        "    room[start_cell[0], start_cell[1]] = 0\n",
        "    room[target[0],target[1]] = 0\n",
        "\n",
        "    # initialize maps for distances and visited cells\n",
        "    size_of_floor = room.shape[0]\n",
        "\n",
        "    # we only want to visit cells once\n",
        "    visited = np.zeros([size_of_floor,size_of_floor], bool)\n",
        "\n",
        "    # initiate matrix to keep track of distance to source cell\n",
        "    # initial distance to cells is infinity so we always get a lower actual distance\n",
        "    distances = np.ones([size_of_floor, size_of_floor]) * np.inf\n",
        "    # start cell has a distance of 0 to itself\n",
        "    distances[start_cell[0], start_cell[1]] = 0\n",
        "\n",
        "    # start algorithm\n",
        "    current_cell = [start_cell[0], start_cell[1]]\n",
        "\n",
        "    while True:\n",
        "\n",
        "        directions = [up, up_d_right, up_d_left, down, down_d_right, down_d_left, left, right]\n",
        "        for direction in directions:\n",
        "            potential_cell = direction(current_cell)\n",
        "            if valid_room_cell(potential_cell, size_of_floor): # boundary checking\n",
        "                if not visited[potential_cell[0],potential_cell[1]]: # check if we have visited this cell before\n",
        "                    # update distance to cell\n",
        "                    distance = distances[current_cell[0], current_cell[1]] + room[potential_cell[0],potential_cell[1]]\n",
        "\n",
        "                    # update distance if it is the shortest discovered\n",
        "                    if distance < distances[potential_cell[0],potential_cell[1]]:\n",
        "                        distances[potential_cell[0],potential_cell[1]] = distance\n",
        "\n",
        "\n",
        "        # mark current cell as visited\n",
        "        visited[current_cell[0] , current_cell[1]] = True\n",
        "\n",
        "        # select next cell\n",
        "        # by choosing the shortest path so far\n",
        "        t = distances.copy()\n",
        "\n",
        "        # we don't want to visit cells that have already been visited\n",
        "        t[np.where(visited)] = np.inf\n",
        "\n",
        "        # choose the shortest path\n",
        "        cell_index = np.argmin(t)\n",
        "\n",
        "        # convert index to row, col\n",
        "        cell_row = cell_index//size_of_floor\n",
        "        cell_col = cell_index%size_of_floor\n",
        "\n",
        "        # update current cell\n",
        "        current_cell = (cell_row, cell_col)\n",
        "\n",
        "        # stop if we have reached the desired cell\n",
        "        if current_cell[0] == target[0] and current_cell[1]==target[1]:\n",
        "          break\n",
        "\n",
        "    # backtrack to construct path\n",
        "    return backtrack(start_cell, target, distances)\n",
        "\n",
        "\n",
        "\n",
        "\n",
        "def flatten(whole_path):\n",
        "    '''\n",
        "    A function to flatten the final path list being a list of lists of cells\n",
        "    '''\n",
        "    return [item for sublist in whole_path for item in sublist]\n",
        "\n",
        "\n",
        "\n",
        "\n",
        "def catSearchRoom(start_cell, boxes_coords, room, limit):\n",
        "    '''\n",
        "    A function for the cat to search for and climb into all boxes in a dark room\n",
        "\n",
        "    Args:\n",
        "        start_cell (list): cell coordinates of the cat's initial position\n",
        "        boxes_coords (list[list]): cell coordinates of the initialized boxes\n",
        "        room (2d ndarray): a 2d numpy array representing the room\n",
        "        limit (int): a specified number of cells that the cat can see around it\n",
        "\n",
        "    Returns:\n",
        "        len(visited_cells) (int): number of cells the cat has visited in the room\n",
        "        boxes_found (list[list]): list of boxes the cat found\n",
        "        visited_boxes (list[list]): list of boxes the cat visited\n",
        "        len(visited_boxes) (int): number of boxes the cat has visited in the room\n",
        "        whole_path (list[list]): path that the cat was searching the room by\n",
        "    '''\n",
        "\n",
        "    visited_cells, travesre_coords, whole_path = [], [], []\n",
        "\n",
        "    # For simplicity, lets not divide the room into four quarters and move the cat to the closest corner, instead:\n",
        "    # Always, move the cat into upper left corner to begin the traversal\n",
        "    path_to_corner = up_left_corner(start_cell, limit)\n",
        "    travesre_coords.append(path_to_corner)\n",
        "\n",
        "    # coordinates in travesre_coords are going to be the ones to come back to for\n",
        "    # iteration when all boxes from the grid are visited or no boxes are found\n",
        "    snake_coords = row_snake(room, limit)\n",
        "    travesre_coords.append(snake_coords)\n",
        "    travesre_coords = flatten(travesre_coords)\n",
        "\n",
        "    boxes_found = []\n",
        "\n",
        "    for i in travesre_coords:\n",
        "\n",
        "      boxes_found_grid = []\n",
        "      start_cell = i\n",
        "\n",
        "      grid_coords = spiral_coords(start_cell, limit)\n",
        "      for g in grid_coords:\n",
        "        if not valid_grid_cell(g):\n",
        "          grid_coords.remove(g)\n",
        "\n",
        "      # Add obstacles around the grid so that the cat does not try to peak outside\n",
        "      obstacles = obstacles_coords(start_cell, limit)\n",
        "\n",
        "      # assign the obstacles a value of 1000\n",
        "      for o in obstacles:\n",
        "        if valid_grid_cell(o):\n",
        "          room[o[0]][o[1]] = 1000\n",
        "\n",
        "      for g in grid_coords:\n",
        "\n",
        "        if g not in visited_cells:\n",
        "          if g in boxes_coords:\n",
        "            boxes_found_grid.append(g)\n",
        "            boxes_found.append(g)\n",
        "          visited_cells.append(g)\n",
        "\n",
        "      for cell in boxes_found_grid:\n",
        "        if cell in path_to_corner:\n",
        "          boxes_found_grid.remove(cell)\n",
        "\n",
        "      for cell in boxes_found_grid:\n",
        "        if cell in snake_coords:\n",
        "          boxes_found_grid.remove(cell)\n",
        "\n",
        "\n",
        "      if boxes_found_grid:\n",
        "\n",
        "        for cell in boxes_found_grid:\n",
        "\n",
        "          if valid_room_cell(cell, len(grid_coords)):\n",
        "\n",
        "            whole_path.append(list(i))\n",
        "            target = cell\n",
        "            whole_path += dijkstra(start_cell, target, room)\n",
        "            start_cell = whole_path[-1]\n",
        "\n",
        "\n",
        "        # to simplify, for now let's get the cat from boxes back to the start cell\n",
        "        target = i\n",
        "        whole_path += dijkstra(start_cell, target, room)\n",
        "\n",
        "        # Nullify the room cell values\n",
        "        room *= np.zeros(room.shape)\n",
        "\n",
        "      else:\n",
        "        #if i not in whole_path:\n",
        "          whole_path.append(list(i))\n",
        "          #start_cell = whole_path[-1]\n",
        "          # Nullify the room cell values\n",
        "          room *= np.zeros(room.shape)\n",
        "\n",
        "    visited_cells.sort()\n",
        "    boxes_found.sort()\n",
        "\n",
        "    if not boxes_found:\n",
        "      return len(visited_cells), visited_cells, len(boxes_found), \"Unfortunately, the cat did not find any boxes in the room, though it warmed up its metallic muscles quite well :)\", whole_path\n",
        "\n",
        "    else:\n",
        "      return len(visited_cells), visited_cells, len(boxes_found), boxes_found, whole_path\n"
      ],
      "metadata": {
        "id": "zds7X6mkOJRo"
      },
      "execution_count": null,
      "outputs": []
    },
    {
      "cell_type": "markdown",
      "source": [
        "## Result"
      ],
      "metadata": {
        "id": "gGDVJJRdChdr"
      }
    },
    {
      "cell_type": "markdown",
      "source": [
        "### Case 1. Without Boxes"
      ],
      "metadata": {
        "id": "YTPeaHVZcqgi"
      }
    },
    {
      "cell_type": "markdown",
      "source": [
        "Room Initialization"
      ],
      "metadata": {
        "id": "RQhv99PWCVgh"
      }
    },
    {
      "cell_type": "code",
      "source": [
        "# Create the room specifying its size and number of boxes to place\n",
        "n_cells = 20\n",
        "num_boxes = 0\n",
        "playground = initialize_room(n_cells, num_boxes)\n",
        "room, showroom, boxes_coords, cat_coords = playground[0], playground[1], playground[2], playground[3]\n",
        "start_cell = cat_coords\n",
        "limit = 3\n",
        "\n",
        "# Output the result\n",
        "print(\"The room dimensions are: \", room.shape, '\\n')\n",
        "if boxes_coords:\n",
        "  print(\"The boxes are positioned at: \", boxes_coords, '\\n')\n",
        "else:\n",
        "  print(\"The boxes are positioned at: \", \"The cat has been tricked :) There are no boxes in the room. But do not tell the cat...\", '\\n')\n",
        "print(\"The beast is set loose at: \", cat_coords, '\\n')\n",
        "print(\"The cat's playground, where 'C' is the cat and 'X's are boxes: \", '\\n')\n",
        "for row in showroom:\n",
        "    print(*row, sep=\"  \")"
      ],
      "metadata": {
        "id": "04fDI6xuBJEK",
        "colab": {
          "base_uri": "https://localhost:8080/"
        },
        "outputId": "0110cdb7-7a9c-47ad-fb06-8a8d2f2d10c3"
      },
      "execution_count": null,
      "outputs": [
        {
          "output_type": "stream",
          "name": "stdout",
          "text": [
            "The room dimensions are:  (20, 20) \n",
            "\n",
            "The boxes are positioned at:  The cat has been tricked :) There are no boxes in the room. But do not tell the cat... \n",
            "\n",
            "The beast is set loose at:  [4, 13] \n",
            "\n",
            "The cat's playground, where 'C' is the cat and 'X's are boxes:  \n",
            "\n",
            "0  0  0  0  0  0  0  0  0  0  0  0  0  0  0  0  0  0  0  0\n",
            "0  0  0  0  0  0  0  0  0  0  0  0  0  0  0  0  0  0  0  0\n",
            "0  0  0  0  0  0  0  0  0  0  0  0  0  0  0  0  0  0  0  0\n",
            "0  0  0  0  0  0  0  0  0  0  0  0  0  0  0  0  0  0  0  0\n",
            "0  0  0  0  0  0  0  0  0  0  0  0  0  C  0  0  0  0  0  0\n",
            "0  0  0  0  0  0  0  0  0  0  0  0  0  0  0  0  0  0  0  0\n",
            "0  0  0  0  0  0  0  0  0  0  0  0  0  0  0  0  0  0  0  0\n",
            "0  0  0  0  0  0  0  0  0  0  0  0  0  0  0  0  0  0  0  0\n",
            "0  0  0  0  0  0  0  0  0  0  0  0  0  0  0  0  0  0  0  0\n",
            "0  0  0  0  0  0  0  0  0  0  0  0  0  0  0  0  0  0  0  0\n",
            "0  0  0  0  0  0  0  0  0  0  0  0  0  0  0  0  0  0  0  0\n",
            "0  0  0  0  0  0  0  0  0  0  0  0  0  0  0  0  0  0  0  0\n",
            "0  0  0  0  0  0  0  0  0  0  0  0  0  0  0  0  0  0  0  0\n",
            "0  0  0  0  0  0  0  0  0  0  0  0  0  0  0  0  0  0  0  0\n",
            "0  0  0  0  0  0  0  0  0  0  0  0  0  0  0  0  0  0  0  0\n",
            "0  0  0  0  0  0  0  0  0  0  0  0  0  0  0  0  0  0  0  0\n",
            "0  0  0  0  0  0  0  0  0  0  0  0  0  0  0  0  0  0  0  0\n",
            "0  0  0  0  0  0  0  0  0  0  0  0  0  0  0  0  0  0  0  0\n",
            "0  0  0  0  0  0  0  0  0  0  0  0  0  0  0  0  0  0  0  0\n",
            "0  0  0  0  0  0  0  0  0  0  0  0  0  0  0  0  0  0  0  0\n"
          ]
        }
      ]
    },
    {
      "cell_type": "markdown",
      "source": [
        "Cat Mission Commences..."
      ],
      "metadata": {
        "id": "-kpVM9BgdVAI"
      }
    },
    {
      "cell_type": "code",
      "source": [
        "cat_path = catSearchRoom(start_cell, boxes_coords, room, limit)\n",
        "\n",
        "# Output the result\n",
        "print(\"Number of cells the cat has visited in the room is: \", cat_path[0], '\\n')\n",
        "print('These are: ', cat_path[1], '\\n')\n",
        "print(\"Number of boxes the cat has found in the room is: \", cat_path[2], '\\n')\n",
        "print('These are: ', cat_path[3], '\\n')\n",
        "#print('Visited boxes: ', cat_path[2], '\\n')\n",
        "\n",
        "print(\"Cat's path was: \", cat_path[4], '\\n')\n",
        "print(\"Number of cat's moves is: \", len(cat_path[4]) -1, '\\n')"
      ],
      "metadata": {
        "id": "hSgr2U9oBUf-",
        "colab": {
          "base_uri": "https://localhost:8080/"
        },
        "outputId": "79d7447b-c905-4fc0-f7e6-79aa5a6a0bc7"
      },
      "execution_count": null,
      "outputs": [
        {
          "output_type": "stream",
          "name": "stdout",
          "text": [
            "Number of cells the cat has visited in the room is:  400 \n",
            "\n",
            "These are:  [[0, 0], [0, 1], [0, 2], [0, 3], [0, 4], [0, 5], [0, 6], [0, 7], [0, 8], [0, 9], [0, 10], [0, 11], [0, 12], [0, 13], [0, 14], [0, 15], [0, 16], [0, 17], [0, 18], [0, 19], [1, 0], [1, 1], [1, 2], [1, 3], [1, 4], [1, 5], [1, 6], [1, 7], [1, 8], [1, 9], [1, 10], [1, 11], [1, 12], [1, 13], [1, 14], [1, 15], [1, 16], [1, 17], [1, 18], [1, 19], [2, 0], [2, 1], [2, 2], [2, 3], [2, 4], [2, 5], [2, 6], [2, 7], [2, 8], [2, 9], [2, 10], [2, 11], [2, 12], [2, 13], [2, 14], [2, 15], [2, 16], [2, 17], [2, 18], [2, 19], [3, 0], [3, 1], [3, 2], [3, 3], [3, 4], [3, 5], [3, 6], [3, 7], [3, 8], [3, 9], [3, 10], [3, 11], [3, 12], [3, 13], [3, 14], [3, 15], [3, 16], [3, 17], [3, 18], [3, 19], [4, 0], [4, 1], [4, 2], [4, 3], [4, 4], [4, 5], [4, 6], [4, 7], [4, 8], [4, 9], [4, 10], [4, 11], [4, 12], [4, 13], [4, 14], [4, 15], [4, 16], [4, 17], [4, 18], [4, 19], [5, 0], [5, 1], [5, 2], [5, 3], [5, 4], [5, 5], [5, 6], [5, 7], [5, 8], [5, 9], [5, 10], [5, 11], [5, 12], [5, 13], [5, 14], [5, 15], [5, 16], [5, 17], [5, 18], [5, 19], [6, 0], [6, 1], [6, 2], [6, 3], [6, 4], [6, 5], [6, 6], [6, 7], [6, 8], [6, 9], [6, 10], [6, 11], [6, 12], [6, 13], [6, 14], [6, 15], [6, 16], [6, 17], [6, 18], [6, 19], [7, 0], [7, 1], [7, 2], [7, 3], [7, 4], [7, 5], [7, 6], [7, 7], [7, 8], [7, 9], [7, 10], [7, 11], [7, 12], [7, 13], [7, 14], [7, 15], [7, 16], [7, 17], [7, 18], [7, 19], [8, 0], [8, 1], [8, 2], [8, 3], [8, 4], [8, 5], [8, 6], [8, 7], [8, 8], [8, 9], [8, 10], [8, 11], [8, 12], [8, 13], [8, 14], [8, 15], [8, 16], [8, 17], [8, 18], [8, 19], [9, 0], [9, 1], [9, 2], [9, 3], [9, 4], [9, 5], [9, 6], [9, 7], [9, 8], [9, 9], [9, 10], [9, 11], [9, 12], [9, 13], [9, 14], [9, 15], [9, 16], [9, 17], [9, 18], [9, 19], [10, 0], [10, 1], [10, 2], [10, 3], [10, 4], [10, 5], [10, 6], [10, 7], [10, 8], [10, 9], [10, 10], [10, 11], [10, 12], [10, 13], [10, 14], [10, 15], [10, 16], [10, 17], [10, 18], [10, 19], [11, 0], [11, 1], [11, 2], [11, 3], [11, 4], [11, 5], [11, 6], [11, 7], [11, 8], [11, 9], [11, 10], [11, 11], [11, 12], [11, 13], [11, 14], [11, 15], [11, 16], [11, 17], [11, 18], [11, 19], [12, 0], [12, 1], [12, 2], [12, 3], [12, 4], [12, 5], [12, 6], [12, 7], [12, 8], [12, 9], [12, 10], [12, 11], [12, 12], [12, 13], [12, 14], [12, 15], [12, 16], [12, 17], [12, 18], [12, 19], [13, 0], [13, 1], [13, 2], [13, 3], [13, 4], [13, 5], [13, 6], [13, 7], [13, 8], [13, 9], [13, 10], [13, 11], [13, 12], [13, 13], [13, 14], [13, 15], [13, 16], [13, 17], [13, 18], [13, 19], [14, 0], [14, 1], [14, 2], [14, 3], [14, 4], [14, 5], [14, 6], [14, 7], [14, 8], [14, 9], [14, 10], [14, 11], [14, 12], [14, 13], [14, 14], [14, 15], [14, 16], [14, 17], [14, 18], [14, 19], [15, 0], [15, 1], [15, 2], [15, 3], [15, 4], [15, 5], [15, 6], [15, 7], [15, 8], [15, 9], [15, 10], [15, 11], [15, 12], [15, 13], [15, 14], [15, 15], [15, 16], [15, 17], [15, 18], [15, 19], [16, 0], [16, 1], [16, 2], [16, 3], [16, 4], [16, 5], [16, 6], [16, 7], [16, 8], [16, 9], [16, 10], [16, 11], [16, 12], [16, 13], [16, 14], [16, 15], [16, 16], [16, 17], [16, 18], [16, 19], [17, 0], [17, 1], [17, 2], [17, 3], [17, 4], [17, 5], [17, 6], [17, 7], [17, 8], [17, 9], [17, 10], [17, 11], [17, 12], [17, 13], [17, 14], [17, 15], [17, 16], [17, 17], [17, 18], [17, 19], [18, 0], [18, 1], [18, 2], [18, 3], [18, 4], [18, 5], [18, 6], [18, 7], [18, 8], [18, 9], [18, 10], [18, 11], [18, 12], [18, 13], [18, 14], [18, 15], [18, 16], [18, 17], [18, 18], [18, 19], [19, 0], [19, 1], [19, 2], [19, 3], [19, 4], [19, 5], [19, 6], [19, 7], [19, 8], [19, 9], [19, 10], [19, 11], [19, 12], [19, 13], [19, 14], [19, 15], [19, 16], [19, 17], [19, 18], [19, 19]] \n",
            "\n",
            "Number of boxes the cat has found in the room is:  0 \n",
            "\n",
            "These are:  Unfortunately, the cat did not find any boxes in the room, though it warmed up its metallic muscles quite well :) \n",
            "\n",
            "Cat's path was:  [[4, 13], [3, 12], [3, 11], [3, 10], [3, 9], [3, 8], [3, 7], [3, 6], [3, 5], [3, 4], [3, 3], [3, 4], [3, 5], [3, 6], [3, 7], [3, 8], [3, 9], [3, 10], [3, 11], [3, 12], [3, 13], [3, 14], [3, 15], [3, 16], [3, 16], [4, 16], [5, 16], [6, 16], [7, 16], [8, 16], [9, 16], [10, 16], [10, 15], [10, 14], [10, 13], [10, 12], [10, 11], [10, 10], [10, 9], [10, 8], [10, 7], [10, 6], [10, 5], [10, 4], [10, 3], [11, 3], [12, 3], [13, 3], [14, 3], [15, 3], [16, 3], [16, 4], [16, 5], [16, 6], [16, 7], [16, 8], [16, 9], [16, 10], [16, 11], [16, 12], [16, 13], [16, 14], [16, 15], [16, 16]] \n",
            "\n",
            "Number of cat's moves is:  63 \n",
            "\n"
          ]
        }
      ]
    },
    {
      "cell_type": "markdown",
      "source": [
        "Path Visualization"
      ],
      "metadata": {
        "id": "s0DP4BrRVtzT"
      }
    },
    {
      "cell_type": "code",
      "source": [
        "# Visualize the cat's path in the room\n",
        "path_visual = np.zeros(room.shape)\n",
        "cat_path = cat_path[4]\n",
        "\n",
        "print(\"The beast is set loose at: \", cat_coords, '\\n')\n",
        "print(\"The boxes are positioned at: \", boxes_coords, '\\n')\n",
        "\n",
        "for i in range(len(cat_path)):\n",
        "  path_visual[cat_path[i][0], cat_path[i][1]] = np.nan\n",
        "\n",
        "plt.imshow(path_visual + room, cmap='jet')\n",
        "plt.show()"
      ],
      "metadata": {
        "id": "SbhqibPqBUf_",
        "colab": {
          "base_uri": "https://localhost:8080/",
          "height": 504
        },
        "outputId": "fef2792f-49d6-4c84-e331-e3ba68fa943c"
      },
      "execution_count": null,
      "outputs": [
        {
          "output_type": "stream",
          "name": "stdout",
          "text": [
            "The beast is set loose at:  [4, 13] \n",
            "\n",
            "The boxes are positioned at:  [] \n",
            "\n"
          ]
        },
        {
          "output_type": "display_data",
          "data": {
            "text/plain": [
              "<Figure size 640x480 with 1 Axes>"
            ],
            "image/png": "[encoded data removed]"
          },
          "metadata": {}
        }
      ]
    },
    {
      "cell_type": "markdown",
      "source": [
        "### Case 2. With 3 Boxes"
      ],
      "metadata": {
        "id": "xxbAk1znd3P3"
      }
    },
    {
      "cell_type": "markdown",
      "source": [
        "Room Initialization"
      ],
      "metadata": {
        "id": "hYMkX6HXd3P5"
      }
    },
    {
      "cell_type": "code",
      "source": [
        "# Create the room specifying its size and number of boxes to place\n",
        "n_cells = 20\n",
        "num_boxes = 3\n",
        "playground = initialize_room(n_cells, num_boxes)\n",
        "room, showroom, boxes_coords, cat_coords = playground[0], playground[1], playground[2], playground[3]\n",
        "start_cell = cat_coords\n",
        "limit = 3\n",
        "\n",
        "# Output the result\n",
        "print(\"The room dimensions are: \", room.shape, '\\n')\n",
        "if boxes_coords:\n",
        "  print(\"The boxes are positioned at: \", boxes_coords, '\\n')\n",
        "else:\n",
        "  print(\"The boxes are positioned at: \", \"The cat has been tricked :) There are no boxes in the room. But do not tell the cat...\", '\\n')\n",
        "print(\"The beast is set loose at: \", cat_coords, '\\n')\n",
        "print(\"The cat's playground, where 'C' is the cat and 'X's are boxes: \", '\\n')\n",
        "for row in showroom:\n",
        "    print(*row, sep=\"  \")"
      ],
      "metadata": {
        "colab": {
          "base_uri": "https://localhost:8080/"
        },
        "outputId": "0c12de76-790e-4a11-ae77-fee81321ca17",
        "id": "ft93SDzid3P6"
      },
      "execution_count": null,
      "outputs": [
        {
          "output_type": "stream",
          "name": "stdout",
          "text": [
            "The room dimensions are:  (20, 20) \n",
            "\n",
            "The boxes are positioned at:  [[3, 4], [7, 10], [18, 0]] \n",
            "\n",
            "The beast is set loose at:  [4, 3] \n",
            "\n",
            "The cat's playground, where 'C' is the cat and 'X's are boxes:  \n",
            "\n",
            "0  0  0  0  0  0  0  0  0  0  0  0  0  0  0  0  0  0  0  0\n",
            "0  0  0  0  0  0  0  0  0  0  0  0  0  0  0  0  0  0  0  0\n",
            "0  0  0  0  0  0  0  0  0  0  0  0  0  0  0  0  0  0  0  0\n",
            "0  0  0  0  X  0  0  0  0  0  0  0  0  0  0  0  0  0  0  0\n",
            "0  0  0  C  0  0  0  0  0  0  0  0  0  0  0  0  0  0  0  0\n",
            "0  0  0  0  0  0  0  0  0  0  0  0  0  0  0  0  0  0  0  0\n",
            "0  0  0  0  0  0  0  0  0  0  0  0  0  0  0  0  0  0  0  0\n",
            "0  0  0  0  0  0  0  0  0  0  X  0  0  0  0  0  0  0  0  0\n",
            "0  0  0  0  0  0  0  0  0  0  0  0  0  0  0  0  0  0  0  0\n",
            "0  0  0  0  0  0  0  0  0  0  0  0  0  0  0  0  0  0  0  0\n",
            "0  0  0  0  0  0  0  0  0  0  0  0  0  0  0  0  0  0  0  0\n",
            "0  0  0  0  0  0  0  0  0  0  0  0  0  0  0  0  0  0  0  0\n",
            "0  0  0  0  0  0  0  0  0  0  0  0  0  0  0  0  0  0  0  0\n",
            "0  0  0  0  0  0  0  0  0  0  0  0  0  0  0  0  0  0  0  0\n",
            "0  0  0  0  0  0  0  0  0  0  0  0  0  0  0  0  0  0  0  0\n",
            "0  0  0  0  0  0  0  0  0  0  0  0  0  0  0  0  0  0  0  0\n",
            "0  0  0  0  0  0  0  0  0  0  0  0  0  0  0  0  0  0  0  0\n",
            "0  0  0  0  0  0  0  0  0  0  0  0  0  0  0  0  0  0  0  0\n",
            "X  0  0  0  0  0  0  0  0  0  0  0  0  0  0  0  0  0  0  0\n",
            "0  0  0  0  0  0  0  0  0  0  0  0  0  0  0  0  0  0  0  0\n"
          ]
        }
      ]
    },
    {
      "cell_type": "markdown",
      "source": [
        "Cat Mission Commences..."
      ],
      "metadata": {
        "id": "uzGutC28d3P7"
      }
    },
    {
      "cell_type": "code",
      "source": [
        "cat_path = catSearchRoom(start_cell, boxes_coords, room, limit)\n",
        "\n",
        "# Output the result\n",
        "print(\"Number of cells the cat has visited in the room is: \", cat_path[0], '\\n')\n",
        "print('These are: ', cat_path[1], '\\n')\n",
        "print(\"Number of boxes the cat has found in the room is: \", cat_path[2], '\\n')\n",
        "print('These are: ', cat_path[3], '\\n')\n",
        "#print('Visited boxes: ', cat_path[2], '\\n')\n",
        "\n",
        "print(\"Cat's path was: \", cat_path[4], '\\n')\n",
        "print(\"Number of cat's moves is: \", len(cat_path[4]) -1, '\\n')"
      ],
      "metadata": {
        "colab": {
          "base_uri": "https://localhost:8080/"
        },
        "outputId": "b41af4de-c701-43dc-97bc-bef0c1fff813",
        "id": "W7Rfl28Zd3P8"
      },
      "execution_count": null,
      "outputs": [
        {
          "output_type": "stream",
          "name": "stdout",
          "text": [
            "Number of cells the cat has visited in the room is:  400 \n",
            "\n",
            "These are:  [[0, 0], [0, 1], [0, 2], [0, 3], [0, 4], [0, 5], [0, 6], [0, 7], [0, 8], [0, 9], [0, 10], [0, 11], [0, 12], [0, 13], [0, 14], [0, 15], [0, 16], [0, 17], [0, 18], [0, 19], [1, 0], [1, 1], [1, 2], [1, 3], [1, 4], [1, 5], [1, 6], [1, 7], [1, 8], [1, 9], [1, 10], [1, 11], [1, 12], [1, 13], [1, 14], [1, 15], [1, 16], [1, 17], [1, 18], [1, 19], [2, 0], [2, 1], [2, 2], [2, 3], [2, 4], [2, 5], [2, 6], [2, 7], [2, 8], [2, 9], [2, 10], [2, 11], [2, 12], [2, 13], [2, 14], [2, 15], [2, 16], [2, 17], [2, 18], [2, 19], [3, 0], [3, 1], [3, 2], [3, 3], [3, 4], [3, 5], [3, 6], [3, 7], [3, 8], [3, 9], [3, 10], [3, 11], [3, 12], [3, 13], [3, 14], [3, 15], [3, 16], [3, 17], [3, 18], [3, 19], [4, 0], [4, 1], [4, 2], [4, 3], [4, 4], [4, 5], [4, 6], [4, 7], [4, 8], [4, 9], [4, 10], [4, 11], [4, 12], [4, 13], [4, 14], [4, 15], [4, 16], [4, 17], [4, 18], [4, 19], [5, 0], [5, 1], [5, 2], [5, 3], [5, 4], [5, 5], [5, 6], [5, 7], [5, 8], [5, 9], [5, 10], [5, 11], [5, 12], [5, 13], [5, 14], [5, 15], [5, 16], [5, 17], [5, 18], [5, 19], [6, 0], [6, 1], [6, 2], [6, 3], [6, 4], [6, 5], [6, 6], [6, 7], [6, 8], [6, 9], [6, 10], [6, 11], [6, 12], [6, 13], [6, 14], [6, 15], [6, 16], [6, 17], [6, 18], [6, 19], [7, 0], [7, 1], [7, 2], [7, 3], [7, 4], [7, 5], [7, 6], [7, 7], [7, 8], [7, 9], [7, 10], [7, 11], [7, 12], [7, 13], [7, 14], [7, 15], [7, 16], [7, 17], [7, 18], [7, 19], [8, 0], [8, 1], [8, 2], [8, 3], [8, 4], [8, 5], [8, 6], [8, 7], [8, 8], [8, 9], [8, 10], [8, 11], [8, 12], [8, 13], [8, 14], [8, 15], [8, 16], [8, 17], [8, 18], [8, 19], [9, 0], [9, 1], [9, 2], [9, 3], [9, 4], [9, 5], [9, 6], [9, 7], [9, 8], [9, 9], [9, 10], [9, 11], [9, 12], [9, 13], [9, 14], [9, 15], [9, 16], [9, 17], [9, 18], [9, 19], [10, 0], [10, 1], [10, 2], [10, 3], [10, 4], [10, 5], [10, 6], [10, 7], [10, 8], [10, 9], [10, 10], [10, 11], [10, 12], [10, 13], [10, 14], [10, 15], [10, 16], [10, 17], [10, 18], [10, 19], [11, 0], [11, 1], [11, 2], [11, 3], [11, 4], [11, 5], [11, 6], [11, 7], [11, 8], [11, 9], [11, 10], [11, 11], [11, 12], [11, 13], [11, 14], [11, 15], [11, 16], [11, 17], [11, 18], [11, 19], [12, 0], [12, 1], [12, 2], [12, 3], [12, 4], [12, 5], [12, 6], [12, 7], [12, 8], [12, 9], [12, 10], [12, 11], [12, 12], [12, 13], [12, 14], [12, 15], [12, 16], [12, 17], [12, 18], [12, 19], [13, 0], [13, 1], [13, 2], [13, 3], [13, 4], [13, 5], [13, 6], [13, 7], [13, 8], [13, 9], [13, 10], [13, 11], [13, 12], [13, 13], [13, 14], [13, 15], [13, 16], [13, 17], [13, 18], [13, 19], [14, 0], [14, 1], [14, 2], [14, 3], [14, 4], [14, 5], [14, 6], [14, 7], [14, 8], [14, 9], [14, 10], [14, 11], [14, 12], [14, 13], [14, 14], [14, 15], [14, 16], [14, 17], [14, 18], [14, 19], [15, 0], [15, 1], [15, 2], [15, 3], [15, 4], [15, 5], [15, 6], [15, 7], [15, 8], [15, 9], [15, 10], [15, 11], [15, 12], [15, 13], [15, 14], [15, 15], [15, 16], [15, 17], [15, 18], [15, 19], [16, 0], [16, 1], [16, 2], [16, 3], [16, 4], [16, 5], [16, 6], [16, 7], [16, 8], [16, 9], [16, 10], [16, 11], [16, 12], [16, 13], [16, 14], [16, 15], [16, 16], [16, 17], [16, 18], [16, 19], [17, 0], [17, 1], [17, 2], [17, 3], [17, 4], [17, 5], [17, 6], [17, 7], [17, 8], [17, 9], [17, 10], [17, 11], [17, 12], [17, 13], [17, 14], [17, 15], [17, 16], [17, 17], [17, 18], [17, 19], [18, 0], [18, 1], [18, 2], [18, 3], [18, 4], [18, 5], [18, 6], [18, 7], [18, 8], [18, 9], [18, 10], [18, 11], [18, 12], [18, 13], [18, 14], [18, 15], [18, 16], [18, 17], [18, 18], [18, 19], [19, 0], [19, 1], [19, 2], [19, 3], [19, 4], [19, 5], [19, 6], [19, 7], [19, 8], [19, 9], [19, 10], [19, 11], [19, 12], [19, 13], [19, 14], [19, 15], [19, 16], [19, 17], [19, 18], [19, 19]] \n",
            "\n",
            "Number of boxes the cat has found in the room is:  3 \n",
            "\n",
            "These are:  [[3, 4], [7, 10], [18, 0]] \n",
            "\n",
            "Cat's path was:  [[4, 3], [3, 3], [3, 4], [3, 5], [3, 6], [3, 7], [3, 8], [3, 9], [3, 10], [3, 11], [3, 12], [3, 13], [3, 14], [3, 15], [3, 16], [3, 16], [4, 16], [5, 16], [6, 16], [7, 16], [8, 16], [9, 16], [10, 16], [10, 15], [10, 14], [10, 13], [9, 12], [8, 11], [7, 10], [8, 11], [9, 12], [10, 13], [10, 12], [10, 11], [10, 10], [10, 9], [10, 8], [10, 7], [10, 6], [10, 5], [10, 4], [10, 3], [11, 3], [12, 3], [13, 3], [14, 3], [15, 3], [16, 2], [17, 1], [18, 0], [17, 1], [16, 2], [15, 3], [16, 3], [16, 4], [16, 5], [16, 6], [16, 7], [16, 8], [16, 9], [16, 10], [16, 11], [16, 12], [16, 13], [16, 14], [16, 15], [16, 16]] \n",
            "\n",
            "Number of cat's moves is:  66 \n",
            "\n"
          ]
        }
      ]
    },
    {
      "cell_type": "markdown",
      "source": [
        "Path Visualization"
      ],
      "metadata": {
        "id": "HxkFsC0Yd3P9"
      }
    },
    {
      "cell_type": "code",
      "source": [
        "# Visualize the cat's path in the room\n",
        "path_visual = np.zeros(room.shape)\n",
        "cat_path = cat_path[4]\n",
        "\n",
        "print(\"The beast is set loose at: \", cat_coords, '\\n')\n",
        "print(\"The boxes are positioned at: \", boxes_coords, '\\n')\n",
        "\n",
        "for i in range(len(cat_path)):\n",
        "  path_visual[cat_path[i][0], cat_path[i][1]] = np.nan\n",
        "\n",
        "plt.imshow(path_visual + room, cmap='jet')\n",
        "plt.show()"
      ],
      "metadata": {
        "colab": {
          "base_uri": "https://localhost:8080/",
          "height": 504
        },
        "outputId": "d7ef36c3-5bfc-4168-8d2d-999e3650d0d0",
        "id": "vMxBG-bLd3P9"
      },
      "execution_count": null,
      "outputs": [
        {
          "output_type": "stream",
          "name": "stdout",
          "text": [
            "The beast is set loose at:  [4, 3] \n",
            "\n",
            "The boxes are positioned at:  [[3, 4], [7, 10], [18, 0]] \n",
            "\n"
          ]
        },
        {
          "output_type": "display_data",
          "data": {
            "text/plain": [
              "<Figure size 640x480 with 1 Axes>"
            ],
            "image/png": "[encoded data removed]"
          },
          "metadata": {}
        }
      ]
    },
    {
      "cell_type": "markdown",
      "source": [
        "### Case 2. With 20 Boxes"
      ],
      "metadata": {
        "id": "LoJn2Jdcd-pk"
      }
    },
    {
      "cell_type": "markdown",
      "source": [
        "Room Initialization"
      ],
      "metadata": {
        "id": "rTZ_cvwxd-pm"
      }
    },
    {
      "cell_type": "code",
      "source": [
        "# Create the room specifying its size and number of boxes to place\n",
        "n_cells = 20\n",
        "num_boxes = 20\n",
        "playground = initialize_room(n_cells, num_boxes)\n",
        "room, showroom, boxes_coords, cat_coords = playground[0], playground[1], playground[2], playground[3]\n",
        "start_cell = cat_coords\n",
        "limit = 3\n",
        "\n",
        "# Output the result\n",
        "print(\"The room dimensions are: \", room.shape, '\\n')\n",
        "if boxes_coords:\n",
        "  print(\"The boxes are positioned at: \", boxes_coords, '\\n')\n",
        "else:\n",
        "  print(\"The boxes are positioned at: \", \"The cat has been tricked :) There are no boxes in the room. But do not tell the cat...\", '\\n')\n",
        "print(\"The beast is set loose at: \", cat_coords, '\\n')\n",
        "print(\"The cat's playground, where 'C' is the cat and 'X's are boxes: \", '\\n')\n",
        "for row in showroom:\n",
        "    print(*row, sep=\"  \")"
      ],
      "metadata": {
        "colab": {
          "base_uri": "https://localhost:8080/"
        },
        "outputId": "10791dd9-10aa-4251-d388-79c91ff7c7b4",
        "id": "o4Zu7MFOd-pm"
      },
      "execution_count": null,
      "outputs": [
        {
          "output_type": "stream",
          "name": "stdout",
          "text": [
            "The room dimensions are:  (20, 20) \n",
            "\n",
            "The boxes are positioned at:  [[1, 1], [1, 12], [2, 8], [2, 18], [3, 4], [5, 15], [7, 15], [8, 6], [10, 18], [11, 3], [12, 9], [14, 1], [14, 7], [14, 18], [15, 18], [16, 5], [17, 6], [19, 2], [19, 5], [19, 6]] \n",
            "\n",
            "The beast is set loose at:  [13, 14] \n",
            "\n",
            "The cat's playground, where 'C' is the cat and 'X's are boxes:  \n",
            "\n",
            "0  0  0  0  0  0  0  0  0  0  0  0  0  0  0  0  0  0  0  0\n",
            "0  X  0  0  0  0  0  0  0  0  0  0  X  0  0  0  0  0  0  0\n",
            "0  0  0  0  0  0  0  0  X  0  0  0  0  0  0  0  0  0  X  0\n",
            "0  0  0  0  X  0  0  0  0  0  0  0  0  0  0  0  0  0  0  0\n",
            "0  0  0  0  0  0  0  0  0  0  0  0  0  0  0  0  0  0  0  0\n",
            "0  0  0  0  0  0  0  0  0  0  0  0  0  0  0  X  0  0  0  0\n",
            "0  0  0  0  0  0  0  0  0  0  0  0  0  0  0  0  0  0  0  0\n",
            "0  0  0  0  0  0  0  0  0  0  0  0  0  0  0  X  0  0  0  0\n",
            "0  0  0  0  0  0  X  0  0  0  0  0  0  0  0  0  0  0  0  0\n",
            "0  0  0  0  0  0  0  0  0  0  0  0  0  0  0  0  0  0  0  0\n",
            "0  0  0  0  0  0  0  0  0  0  0  0  0  0  0  0  0  0  X  0\n",
            "0  0  0  X  0  0  0  0  0  0  0  0  0  0  0  0  0  0  0  0\n",
            "0  0  0  0  0  0  0  0  0  X  0  0  0  0  0  0  0  0  0  0\n",
            "0  0  0  0  0  0  0  0  0  0  0  0  0  0  C  0  0  0  0  0\n",
            "0  X  0  0  0  0  0  X  0  0  0  0  0  0  0  0  0  0  X  0\n",
            "0  0  0  0  0  0  0  0  0  0  0  0  0  0  0  0  0  0  X  0\n",
            "0  0  0  0  0  X  0  0  0  0  0  0  0  0  0  0  0  0  0  0\n",
            "0  0  0  0  0  0  X  0  0  0  0  0  0  0  0  0  0  0  0  0\n",
            "0  0  0  0  0  0  0  0  0  0  0  0  0  0  0  0  0  0  0  0\n",
            "0  0  X  0  0  X  X  0  0  0  0  0  0  0  0  0  0  0  0  0\n"
          ]
        }
      ]
    },
    {
      "cell_type": "markdown",
      "source": [
        "Cat Mission Commences..."
      ],
      "metadata": {
        "id": "GFvMtSRBd-pn"
      }
    },
    {
      "cell_type": "code",
      "source": [
        "cat_path = catSearchRoom(start_cell, boxes_coords, room, limit)\n",
        "\n",
        "# Output the result\n",
        "print(\"Number of cells the cat has visited in the room is: \", cat_path[0], '\\n')\n",
        "print('These are: ', cat_path[1], '\\n')\n",
        "print(\"Number of boxes the cat has found in the room is: \", cat_path[2], '\\n')\n",
        "print('These are: ', cat_path[3], '\\n')\n",
        "#print('Visited boxes: ', cat_path[2], '\\n')\n",
        "\n",
        "print(\"Cat's path was: \", cat_path[4], '\\n')\n",
        "print(\"Number of cat's moves is: \", len(cat_path[4]) -1, '\\n')"
      ],
      "metadata": {
        "colab": {
          "base_uri": "https://localhost:8080/"
        },
        "outputId": "10938857-8112-48ae-e91e-2d6f21190011",
        "id": "fS0K1FzTd-po"
      },
      "execution_count": null,
      "outputs": [
        {
          "output_type": "stream",
          "name": "stdout",
          "text": [
            "Number of cells the cat has visited in the room is:  400 \n",
            "\n",
            "These are:  [[0, 0], [0, 1], [0, 2], [0, 3], [0, 4], [0, 5], [0, 6], [0, 7], [0, 8], [0, 9], [0, 10], [0, 11], [0, 12], [0, 13], [0, 14], [0, 15], [0, 16], [0, 17], [0, 18], [0, 19], [1, 0], [1, 1], [1, 2], [1, 3], [1, 4], [1, 5], [1, 6], [1, 7], [1, 8], [1, 9], [1, 10], [1, 11], [1, 12], [1, 13], [1, 14], [1, 15], [1, 16], [1, 17], [1, 18], [1, 19], [2, 0], [2, 1], [2, 2], [2, 3], [2, 4], [2, 5], [2, 6], [2, 7], [2, 8], [2, 9], [2, 10], [2, 11], [2, 12], [2, 13], [2, 14], [2, 15], [2, 16], [2, 17], [2, 18], [2, 19], [3, 0], [3, 1], [3, 2], [3, 3], [3, 4], [3, 5], [3, 6], [3, 7], [3, 8], [3, 9], [3, 10], [3, 11], [3, 12], [3, 13], [3, 14], [3, 15], [3, 16], [3, 17], [3, 18], [3, 19], [4, 0], [4, 1], [4, 2], [4, 3], [4, 4], [4, 5], [4, 6], [4, 7], [4, 8], [4, 9], [4, 10], [4, 11], [4, 12], [4, 13], [4, 14], [4, 15], [4, 16], [4, 17], [4, 18], [4, 19], [5, 0], [5, 1], [5, 2], [5, 3], [5, 4], [5, 5], [5, 6], [5, 7], [5, 8], [5, 9], [5, 10], [5, 11], [5, 12], [5, 13], [5, 14], [5, 15], [5, 16], [5, 17], [5, 18], [5, 19], [6, 0], [6, 1], [6, 2], [6, 3], [6, 4], [6, 5], [6, 6], [6, 7], [6, 8], [6, 9], [6, 10], [6, 11], [6, 12], [6, 13], [6, 14], [6, 15], [6, 16], [6, 17], [6, 18], [6, 19], [7, 0], [7, 1], [7, 2], [7, 3], [7, 4], [7, 5], [7, 6], [7, 7], [7, 8], [7, 9], [7, 10], [7, 11], [7, 12], [7, 13], [7, 14], [7, 15], [7, 16], [7, 17], [7, 18], [7, 19], [8, 0], [8, 1], [8, 2], [8, 3], [8, 4], [8, 5], [8, 6], [8, 7], [8, 8], [8, 9], [8, 10], [8, 11], [8, 12], [8, 13], [8, 14], [8, 15], [8, 16], [8, 17], [8, 18], [8, 19], [9, 0], [9, 1], [9, 2], [9, 3], [9, 4], [9, 5], [9, 6], [9, 7], [9, 8], [9, 9], [9, 10], [9, 11], [9, 12], [9, 13], [9, 14], [9, 15], [9, 16], [9, 17], [9, 18], [9, 19], [10, 0], [10, 1], [10, 2], [10, 3], [10, 4], [10, 5], [10, 6], [10, 7], [10, 8], [10, 9], [10, 10], [10, 11], [10, 12], [10, 13], [10, 14], [10, 15], [10, 16], [10, 17], [10, 18], [10, 19], [11, 0], [11, 1], [11, 2], [11, 3], [11, 4], [11, 5], [11, 6], [11, 7], [11, 8], [11, 9], [11, 10], [11, 11], [11, 12], [11, 13], [11, 14], [11, 15], [11, 16], [11, 17], [11, 18], [11, 19], [12, 0], [12, 1], [12, 2], [12, 3], [12, 4], [12, 5], [12, 6], [12, 7], [12, 8], [12, 9], [12, 10], [12, 11], [12, 12], [12, 13], [12, 14], [12, 15], [12, 16], [12, 17], [12, 18], [12, 19], [13, 0], [13, 1], [13, 2], [13, 3], [13, 4], [13, 5], [13, 6], [13, 7], [13, 8], [13, 9], [13, 10], [13, 11], [13, 12], [13, 13], [13, 14], [13, 15], [13, 16], [13, 17], [13, 18], [13, 19], [14, 0], [14, 1], [14, 2], [14, 3], [14, 4], [14, 5], [14, 6], [14, 7], [14, 8], [14, 9], [14, 10], [14, 11], [14, 12], [14, 13], [14, 14], [14, 15], [14, 16], [14, 17], [14, 18], [14, 19], [15, 0], [15, 1], [15, 2], [15, 3], [15, 4], [15, 5], [15, 6], [15, 7], [15, 8], [15, 9], [15, 10], [15, 11], [15, 12], [15, 13], [15, 14], [15, 15], [15, 16], [15, 17], [15, 18], [15, 19], [16, 0], [16, 1], [16, 2], [16, 3], [16, 4], [16, 5], [16, 6], [16, 7], [16, 8], [16, 9], [16, 10], [16, 11], [16, 12], [16, 13], [16, 14], [16, 15], [16, 16], [16, 17], [16, 18], [16, 19], [17, 0], [17, 1], [17, 2], [17, 3], [17, 4], [17, 5], [17, 6], [17, 7], [17, 8], [17, 9], [17, 10], [17, 11], [17, 12], [17, 13], [17, 14], [17, 15], [17, 16], [17, 17], [17, 18], [17, 19], [18, 0], [18, 1], [18, 2], [18, 3], [18, 4], [18, 5], [18, 6], [18, 7], [18, 8], [18, 9], [18, 10], [18, 11], [18, 12], [18, 13], [18, 14], [18, 15], [18, 16], [18, 17], [18, 18], [18, 19], [19, 0], [19, 1], [19, 2], [19, 3], [19, 4], [19, 5], [19, 6], [19, 7], [19, 8], [19, 9], [19, 10], [19, 11], [19, 12], [19, 13], [19, 14], [19, 15], [19, 16], [19, 17], [19, 18], [19, 19]] \n",
            "\n",
            "Number of boxes the cat has found in the room is:  20 \n",
            "\n",
            "These are:  [[1, 1], [1, 12], [2, 8], [2, 18], [3, 4], [5, 15], [7, 15], [8, 6], [10, 18], [11, 3], [12, 9], [14, 1], [14, 7], [14, 18], [15, 18], [16, 5], [17, 6], [19, 2], [19, 5], [19, 6]] \n",
            "\n",
            "Cat's path was:  [[13, 14], [12, 13], [11, 12], [10, 11], [11, 10], [12, 9], [11, 10], [10, 11], [11, 12], [10, 11], [9, 10], [8, 9], [8, 8], [7, 7], [8, 6], [8, 7], [7, 8], [8, 9], [7, 8], [6, 7], [5, 6], [4, 7], [3, 8], [2, 8], [3, 7], [4, 6], [5, 6], [4, 5], [3, 4], [3, 3], [2, 2], [1, 1], [1, 2], [2, 3], [3, 4], [3, 3], [3, 4], [3, 5], [3, 6], [3, 7], [3, 8], [3, 9], [3, 10], [2, 11], [1, 12], [1, 11], [2, 10], [3, 9], [3, 10], [3, 11], [3, 12], [3, 13], [4, 14], [5, 15], [5, 14], [4, 13], [3, 12], [3, 13], [3, 14], [3, 15], [2, 16], [1, 17], [2, 18], [1, 17], [2, 16], [3, 15], [3, 16], [3, 16], [4, 16], [5, 15], [6, 15], [7, 15], [6, 16], [5, 16], [4, 16], [5, 16], [6, 16], [7, 16], [8, 17], [9, 18], [10, 18], [9, 17], [8, 16], [7, 16], [8, 16], [9, 16], [10, 16], [10, 15], [10, 14], [10, 13], [10, 12], [10, 11], [10, 10], [10, 9], [10, 8], [10, 7], [10, 6], [10, 5], [10, 4], [10, 3], [11, 3], [12, 2], [13, 1], [14, 1], [13, 2], [12, 3], [11, 3], [12, 3], [13, 3], [14, 3], [15, 4], [16, 5], [17, 6], [16, 5], [15, 4], [14, 3], [15, 3], [16, 3], [17, 2], [18, 2], [19, 2], [16, 3], [19, 3], [18, 4], [19, 5], [16, 3], [19, 6], [18, 5], [17, 4], [16, 3], [16, 4], [16, 5], [15, 6], [14, 7], [14, 6], [15, 5], [16, 4], [16, 5], [16, 6], [16, 7], [16, 8], [16, 9], [16, 10], [16, 11], [16, 12], [16, 13], [16, 14], [16, 15], [15, 16], [14, 17], [15, 18], [16, 15], [14, 18], [14, 17], [15, 16], [16, 15], [16, 16]] \n",
            "\n",
            "Number of cat's moves is:  156 \n",
            "\n"
          ]
        }
      ]
    },
    {
      "cell_type": "markdown",
      "source": [
        "Path Visualization"
      ],
      "metadata": {
        "id": "Pl4kNffsd-po"
      }
    },
    {
      "cell_type": "code",
      "source": [
        "# Visualize the cat's path in the room\n",
        "path_visual = np.zeros(room.shape)\n",
        "cat_path = cat_path[4]\n",
        "\n",
        "print(\"The beast is set loose at: \", cat_coords, '\\n')\n",
        "print(\"The boxes are positioned at: \", boxes_coords, '\\n')\n",
        "\n",
        "for i in range(len(cat_path)):\n",
        "  path_visual[cat_path[i][0], cat_path[i][1]] = np.nan\n",
        "\n",
        "plt.imshow(path_visual + room, cmap='jet')\n",
        "plt.show()"
      ],
      "metadata": {
        "colab": {
          "base_uri": "https://localhost:8080/",
          "height": 504
        },
        "outputId": "09aecabb-91cc-4576-8105-df5073355c42",
        "id": "XRZfonwmd-pp"
      },
      "execution_count": null,
      "outputs": [
        {
          "output_type": "stream",
          "name": "stdout",
          "text": [
            "The beast is set loose at:  [13, 14] \n",
            "\n",
            "The boxes are positioned at:  [[1, 1], [1, 12], [2, 8], [2, 18], [3, 4], [5, 15], [7, 15], [8, 6], [10, 18], [11, 3], [12, 9], [14, 1], [14, 7], [14, 18], [15, 18], [16, 5], [17, 6], [19, 2], [19, 5], [19, 6]] \n",
            "\n"
          ]
        },
        {
          "output_type": "display_data",
          "data": {
            "text/plain": [
              "<Figure size 640x480 with 1 Axes>"
            ],
            "image/png": "[encoded data removed]"
          },
          "metadata": {}
        }
      ]
    },
    {
      "cell_type": "markdown",
      "source": [
        "# PART 3. Q & A"
      ],
      "metadata": {
        "id": "zTrPIP52Ocf9"
      }
    },
    {
      "cell_type": "markdown",
      "source": [
        "## **Q1. Оцініть розрахункову складність алгоритму для кращого або гіршого сценарію пошуку.**\n",
        "\n",
        "The main catSearchRoom function uses several helper functions.\n",
        "\n",
        "\n",
        "1. initialize_room: O(n_cells^2) - since it always has to initialize a 2d array with zeros in it.\n",
        "2. valid_room_cell and valid_grid_cell: O(1) - since they involve only a few simple comparisons.\n",
        "3. movement functions up, down, and others: O(1) - since they involve basic arithmetic operations.\n",
        "4. up_left_corner: Ω(1) - when the start cell equals [limit, limit]; O(n_cells) - since the size of the path depends on the distance of the start_cell from the corner.\n",
        "5. row_snake: ϴ(n_cells x log(n_cells)) - since the average scenario would be traversing with some limit value; O(n_cells^2) - since the extreme worst case when the limit is 0 and the whole array is traversed.\n",
        "6. spiral_coords: O(limit^2) - since it always has to traverse the grid of size (2 x limit + 1) x (2 x limit + 1); O(n_cells^2) - worst case, when (2 x limit + 1) tends to n_cells.\n",
        "7. obstacles_coords: O(limit) - since the size of the output depends on the limit value.\n",
        "8. backtrack: O(n_cells^2) - since in the worst case, it can traverse the entire room.\n",
        "9. dijkstra: Ω(n_cells^2) - since it always has to initialize a copy of the room; O(n_cells^2) - since in the worst case, it can traverse the entire room.\n",
        "10. flatten:  ϴ(n_cells x log(n_cells)) - since the average scenario would be traversing with some limit value; O(n_cells^2) - since in the worst case, it can traverse the entire room plus path to the corner.\n",
        "\n",
        "\n",
        "As we can see, the helper functions have very different time complexities, but  the determining ones for the catSearchRoom are:\n",
        "  \n",
        "1.   The row-based snake algorithm to traverse the room; and\n",
        "2.   Dijkstra's algorithm to build path between targets.\n",
        "\n",
        ">**In the best case scenario**, when there's no boxes, and the limit > 0, the time complexity of the function is defined by the row-based snake algorithm's **ϴ(n_cells x log(n_cells))**.\n",
        "\n",
        ">**In the worst case scenario**, when each cell in the room has a box in it, the function has to execute the Dijkstra's algorithm (which has the O(n_cells^2)) n_cells^2 times. Hence, the catSearchRoom function's time complexity would be **O(n_cells^4)**."
      ],
      "metadata": {
        "id": "MSrpPz2ePYRA"
      }
    },
    {
      "cell_type": "markdown",
      "source": [
        "## **Q2. Чи буде залежати цей результат від розташування початкової клітинки?**\n",
        ">As a result, the computational complexity of the **catSearchRoom function depends majorly on the size of the room, the number of boxes, and the limit value, but not so much on the starting cell position**. Even if the path from the starting cell to the upper left corner was a diagonal path between two opposite corners, it would not influence the best case scenario's time complexity."
      ],
      "metadata": {
        "id": "PA1lAfzPmAti"
      }
    },
    {
      "cell_type": "markdown",
      "source": [
        "---------------------------------------------------------------------------------------------------------"
      ],
      "metadata": {
        "id": "nA5kmxyJ3xKJ"
      }
    }
  ]
}